{
 "cells": [
  {
   "cell_type": "markdown",
   "id": "e0b50688-18b1-4d65-92bc-8b5cacac8038",
   "metadata": {},
   "source": [
    "# CLASSIFICATION OF NEPALI LANGUAGE DATA"
   ]
  },
  {
   "cell_type": "code",
   "execution_count": 1,
   "id": "f3916dbd-3388-4173-8324-c03b69fb72c9",
   "metadata": {},
   "outputs": [],
   "source": [
    "import pandas as pd\n",
    "import numpy as np\n",
    "pd.set_option('display.max_colwidth',None)   \n",
    "import collections\n",
    "from collections import Counter"
   ]
  },
  {
   "cell_type": "code",
   "execution_count": 2,
   "id": "2bb8439d-6254-4bf6-a18d-d538f9ed3a95",
   "metadata": {},
   "outputs": [],
   "source": [
    "df = pd.read_csv(\"train.csv\")\n",
    "df2 = pd.read_csv(\"valid.csv\")"
   ]
  },
  {
   "cell_type": "code",
   "execution_count": 3,
   "id": "b2ebcc1b-a630-4a1c-8180-ecbafce12aa2",
   "metadata": {},
   "outputs": [
    {
     "data": {
      "text/html": [
       "<div>\n",
       "<style scoped>\n",
       "    .dataframe tbody tr th:only-of-type {\n",
       "        vertical-align: middle;\n",
       "    }\n",
       "\n",
       "    .dataframe tbody tr th {\n",
       "        vertical-align: top;\n",
       "    }\n",
       "\n",
       "    .dataframe thead th {\n",
       "        text-align: right;\n",
       "    }\n",
       "</style>\n",
       "<table border=\"1\" class=\"dataframe\">\n",
       "  <thead>\n",
       "    <tr style=\"text-align: right;\">\n",
       "      <th></th>\n",
       "      <th>headings</th>\n",
       "      <th>paras</th>\n",
       "      <th>label</th>\n",
       "    </tr>\n",
       "  </thead>\n",
       "  <tbody>\n",
       "    <tr>\n",
       "      <th>0</th>\n",
       "      <td>‘लभ स्टेसन’ भियतनाम र इन्डोनेसियामा</td>\n",
       "      <td>नेपाली कथानक फिल्म ‘लभ स्टेसन’ को टिम यति बेला भियतनाम र इन्डोनेसियामा छ । फिल्मको गीत छायांकनका लागि अभिनेता प्रदीप खड्का, अभिनेत्री जसिता गुरुङ, निर्माता गोविन्द शाही, कोरियोग्राफर शिशिर खाती, क्यामेरा पर्सन आलोक शुक्लासहितको टिम यी देश पुगेका हुन् ।</td>\n",
       "      <td>entertainment</td>\n",
       "    </tr>\n",
       "    <tr>\n",
       "      <th>1</th>\n",
       "      <td>चाडबाडलगत्तै तरकारी सस्तियो</td>\n",
       "      <td>दसैंको मुखमा अस्वाभाविक बढेको तरकारी तथा फलफूलको भाउ घट्न थालेको छ । उत्पादन वृद्धिसँगै सहज आपूर्तिका कारण मूल्य घटेको हो ।</td>\n",
       "      <td>business</td>\n",
       "    </tr>\n",
       "    <tr>\n",
       "      <th>2</th>\n",
       "      <td>किङ्गफिसर बियर नेपाली बजारमा</td>\n",
       "      <td>एशियाकै ठूलो बियर कम्पनी मध्येको युनाइटेड ब्रुअरीज लिमिटेडले यति ब्रुअरीसँगको सहकार्यमा किङ्गफिसर बियर बजारमा ल्याएको छ ।</td>\n",
       "      <td>business</td>\n",
       "    </tr>\n",
       "    <tr>\n",
       "      <th>3</th>\n",
       "      <td>अर्बपतिका आँखा अन्तरिक्षतिर</td>\n",
       "      <td>संसारका धनाढ्यहरू अन्तरिक्ष यात्रालाई सस्तो र व्यावसायिक रूपमा साकार बनाउने अभियानमा सामेल हुने क्रम बढ्दो छ । यिनैमध्येका हुन् अमेरिकी अर्बपति इलन मस्क, जेफ बेजोस् र बेलायती टाइकुन रिचर्ड ब्रानसन ।</td>\n",
       "      <td>business</td>\n",
       "    </tr>\n",
       "    <tr>\n",
       "      <th>4</th>\n",
       "      <td>‘आई एम सरी’ भन्दै सौगात</td>\n",
       "      <td>निकेश खड्का निर्देशित फिल्म ‘फाटेको जुत्ता’ को हालै सार्वजनिक गीतमा अभिनेता सौगात मल्ल र प्रियंका कार्की फिचरिङ छन् । जसमा सौगातले प्रियंकासँग माफी माग्ने मुडमा फकाइरहेका छन् ।</td>\n",
       "      <td>entertainment</td>\n",
       "    </tr>\n",
       "  </tbody>\n",
       "</table>\n",
       "</div>"
      ],
      "text/plain": [
       "                              headings  \\\n",
       "0  ‘लभ स्टेसन’ भियतनाम र इन्डोनेसियामा   \n",
       "1          चाडबाडलगत्तै तरकारी सस्तियो   \n",
       "2       किङ्गफिसर बियर नेपाली बजारमा     \n",
       "3          अर्बपतिका आँखा अन्तरिक्षतिर   \n",
       "4              ‘आई एम सरी’ भन्दै सौगात   \n",
       "\n",
       "                                                                                                                                                                                                                                                          paras  \\\n",
       "0  नेपाली कथानक फिल्म ‘लभ स्टेसन’ को टिम यति बेला भियतनाम र इन्डोनेसियामा छ । फिल्मको गीत छायांकनका लागि अभिनेता प्रदीप खड्का, अभिनेत्री जसिता गुरुङ, निर्माता गोविन्द शाही, कोरियोग्राफर शिशिर खाती, क्यामेरा पर्सन आलोक शुक्लासहितको टिम यी देश पुगेका हुन् ।   \n",
       "1                                                                                                                                   दसैंको मुखमा अस्वाभाविक बढेको तरकारी तथा फलफूलको भाउ घट्न थालेको छ । उत्पादन वृद्धिसँगै सहज आपूर्तिका कारण मूल्य घटेको हो ।   \n",
       "2                                                                                                                                    एशियाकै ठूलो बियर कम्पनी मध्येको युनाइटेड ब्रुअरीज लिमिटेडले यति ब्रुअरीसँगको सहकार्यमा किङ्गफिसर बियर बजारमा ल्याएको छ ।    \n",
       "3                                                        संसारका धनाढ्यहरू अन्तरिक्ष यात्रालाई सस्तो र व्यावसायिक रूपमा साकार बनाउने अभियानमा सामेल हुने क्रम बढ्दो छ । यिनैमध्येका हुन् अमेरिकी अर्बपति इलन मस्क, जेफ बेजोस् र बेलायती टाइकुन रिचर्ड ब्रानसन ।   \n",
       "4                                                                              निकेश खड्का निर्देशित फिल्म ‘फाटेको जुत्ता’ को हालै सार्वजनिक गीतमा अभिनेता सौगात मल्ल र प्रियंका कार्की फिचरिङ छन् । जसमा सौगातले प्रियंकासँग माफी माग्ने मुडमा फकाइरहेका छन् ।   \n",
       "\n",
       "           label  \n",
       "0  entertainment  \n",
       "1       business  \n",
       "2       business  \n",
       "3       business  \n",
       "4  entertainment  "
      ]
     },
     "execution_count": 3,
     "metadata": {},
     "output_type": "execute_result"
    }
   ],
   "source": [
    "df.head()"
   ]
  },
  {
   "cell_type": "code",
   "execution_count": 4,
   "id": "eb1d29c8-3b35-412f-9fc8-e313679b7b61",
   "metadata": {},
   "outputs": [],
   "source": [
    "#preparing training data\n",
    "X_train=df['paras']\n",
    "Y_train=df['label']"
   ]
  },
  {
   "cell_type": "code",
   "execution_count": 5,
   "id": "1dec3c0d-c074-4d86-904b-7c3395088dd8",
   "metadata": {},
   "outputs": [],
   "source": [
    "#preparing testing data\n",
    "X_test=df2['paras']\n",
    "Y_test=df2['label']"
   ]
  },
  {
   "cell_type": "markdown",
   "id": "654edff7-dc0d-489e-8cc3-649859e6e060",
   "metadata": {},
   "source": [
    "### REMOVING STOPWORDS"
   ]
  },
  {
   "cell_type": "code",
   "execution_count": 6,
   "id": "8cc51836-99ce-470b-871c-436d825c4b2f",
   "metadata": {},
   "outputs": [],
   "source": [
    "import nltk"
   ]
  },
  {
   "cell_type": "code",
   "execution_count": 7,
   "id": "3cb38a85-ebc5-4a92-b7ad-e0192f54f7a9",
   "metadata": {},
   "outputs": [],
   "source": [
    "stopWords = set(nltk.corpus.stopwords.words('nepali'))"
   ]
  },
  {
   "cell_type": "markdown",
   "id": "1e3c0afc-169c-4ecb-8ba4-710b040e44b7",
   "metadata": {},
   "source": [
    "### Vectorizer"
   ]
  },
  {
   "cell_type": "code",
   "execution_count": 8,
   "id": "10a0f195-5f0d-4a46-8385-3908d7aed586",
   "metadata": {},
   "outputs": [],
   "source": [
    "from sklearn.feature_extraction.text import TfidfVectorizer"
   ]
  },
  {
   "cell_type": "code",
   "execution_count": 9,
   "id": "04bec914-c442-458b-abcf-88960caf6fb6",
   "metadata": {},
   "outputs": [
    {
     "name": "stderr",
     "output_type": "stream",
     "text": [
      "/Users/badalgami/opt/anaconda3/lib/python3.9/site-packages/sklearn/feature_extraction/text.py:396: UserWarning: Your stop_words may be inconsistent with your preprocessing. Tokenizing the stop words generated tokens ['अक', 'अग', 'अझ', 'अन', 'अर', 'आजक', 'आत', 'आद', 'आफ', 'आय', 'ईक', 'उद', 'उनक', 'उनल', 'उह', 'एउट', 'एन', 'कत', 'कम', 'कस', 'कसर', 'कह', 'गत', 'गय', 'गर', 'चम', 'छन', 'जत', 'जबक', 'जस', 'जसक', 'जसब', 'जसम', 'जसल', 'जह', 'तत', 'तथ', 'तदन', 'तप', 'तवम', 'नज', 'नत', 'नभन', 'नय', 'पक', 'पछ', 'पन', 'पय', 'पर', 'पष', 'पह', 'बन', 'बर', 'भएक', 'भय', 'भव', 'मल', 'यत', 'यथ', 'यद', 'यप', 'यसक', 'यसपछ', 'यसब', 'यसर', 'यह', 'रण', 'रत', 'रमश', 'रह', 'लस', 'वर', 'सक', 'सट', 'सध', 'सपछ', 'सब', 'सम', 'सर', 'सह', 'हन', 'हर', 'हरण'] not in stop_words.\n",
      "  warnings.warn(\n"
     ]
    }
   ],
   "source": [
    "def tfidf_features(X_train, X_test):\n",
    "    tfidf_vectorizer = TfidfVectorizer(stop_words=stopWords)\n",
    "    X_train_tfidf = tfidf_vectorizer.fit_transform(X_train)\n",
    "    X_test_tfidf = tfidf_vectorizer.transform(X_test)\n",
    "    return X_train_tfidf,X_test_tfidf,tfidf_vectorizer.vocabulary_\n",
    "X_train_tfidf,X_test_tfidf,vocabulary=tfidf_features(X_train,X_test)\n"
   ]
  },
  {
   "cell_type": "markdown",
   "id": "c9ebbe23-1dc9-4afa-bb3c-f6ac56c3a90c",
   "metadata": {},
   "source": [
    "# CLASSIFICATION OF NEPALI LANGUAGE"
   ]
  },
  {
   "cell_type": "code",
   "execution_count": 10,
   "id": "de870cc1-c50b-4cab-8b4f-335c6fa366be",
   "metadata": {},
   "outputs": [],
   "source": [
    "#Convert Sparse to Dense\n",
    "X_train_Vectorized_Dense = X_train_tfidf.todense()\n",
    "X_test_Vectorized_Dense = X_test_tfidf.todense()"
   ]
  },
  {
   "cell_type": "markdown",
   "id": "a7876f97-b170-48aa-ae7f-0cdf68635f16",
   "metadata": {},
   "source": [
    "# Algorithm implemntation"
   ]
  },
  {
   "cell_type": "code",
   "execution_count": 13,
   "id": "876122b5-0536-4b40-bad5-4327ff10b0b8",
   "metadata": {
    "tags": []
   },
   "outputs": [],
   "source": [
    "from sklearn.svm import LinearSVC\n",
    "from sklearn.ensemble import ExtraTreesClassifier,GradientBoostingClassifier,RandomForestClassifier,AdaBoostClassifier\n",
    "from sklearn.naive_bayes import GaussianNB\n",
    "from sklearn.neural_network import MLPClassifier\n",
    "from sklearn.linear_model import LogisticRegression,RidgeClassifier\n",
    "from sklearn.discriminant_analysis import QuadraticDiscriminantAnalysis\n",
    "from sklearn.tree import DecisionTreeClassifier"
   ]
  },
  {
   "cell_type": "code",
   "execution_count": 14,
   "id": "76fae19a-8193-42d8-be2c-0afea77bc17a",
   "metadata": {},
   "outputs": [],
   "source": [
    "from sklearn.metrics import confusion_matrix, accuracy_score, f1_score"
   ]
  },
  {
   "cell_type": "code",
   "execution_count": 15,
   "id": "1cb2e68a-615f-4d59-bb43-3799ac2d3697",
   "metadata": {},
   "outputs": [],
   "source": [
    "def ClassificationAlgorithm_dense(func, **kwargs):\n",
    "\n",
    "  def innerFunction():\n",
    "    model = func(**kwargs)\n",
    "    model.fit(X_train_Vectorized_Dense, Y_train)\n",
    "\n",
    "    Y_pred = model.predict(X_test_Vectorized_Dense)\n",
    "    \n",
    "    print(\"Confusion Matrix : \\n\",confusion_matrix(Y_test,Y_pred),\"\\n\")\n",
    "    print(\"Accuracy Score : \",accuracy_score(Y_test,Y_pred))\n",
    "    print(\"F1 Score : \",f1_score(Y_test,Y_pred,average='weighted'))\n",
    "\n",
    "  return innerFunction()"
   ]
  },
  {
   "cell_type": "code",
   "execution_count": 16,
   "id": "32199f7c-20f6-468f-8b4c-bd9a3c7b47ec",
   "metadata": {},
   "outputs": [],
   "source": [
    "def ClassificationAlgorithm(func, **kwargs):\n",
    "\n",
    "  def innerFunction():\n",
    "    model = func(**kwargs)\n",
    "    model.fit(X_train_tfidf,Y_train)\n",
    "    \n",
    "    Y_pred= model.predict(X_test_tfidf)\n",
    "    \n",
    "    print (\"Confusion Matrix : \\n\", confusion_matrix(Y_test, Y_pred), \"\\n\")\n",
    "    print(\"Testing Accuracy is  :%s\" %(model.score(X_test_tfidf, Y_test)))\n",
    "    print (\"F1 Score : \" , f1_score(Y_test, Y_pred, average='weighted'))\n",
    "    \n",
    "  return innerFunction()"
   ]
  },
  {
   "cell_type": "markdown",
   "id": "03895079-99d0-44a3-8723-b18fbd23adc8",
   "metadata": {},
   "source": [
    "### SVM"
   ]
  },
  {
   "cell_type": "code",
   "execution_count": 17,
   "id": "5d8a8648-ab58-4fe1-bc7f-53db8da7a1a0",
   "metadata": {},
   "outputs": [
    {
     "name": "stdout",
     "output_type": "stream",
     "text": [
      "Confusion Matrix : \n",
      " [[447  48  15]\n",
      " [ 36 398  17]\n",
      " [ 15  22 497]] \n",
      "\n",
      "Testing Accuracy is  :0.8976588628762542\n",
      "F1 Score :  0.8978573923845155\n"
     ]
    }
   ],
   "source": [
    "from sklearn.svm import LinearSVC\n",
    "ClassificationAlgorithm(LinearSVC)"
   ]
  },
  {
   "cell_type": "code",
   "execution_count": 18,
   "id": "bc35af04-b907-4c0c-9f9b-71199239dea2",
   "metadata": {},
   "outputs": [
    {
     "name": "stdout",
     "output_type": "stream",
     "text": [
      "Confusion Matrix : \n",
      " [[453  47  10]\n",
      " [ 27 409  15]\n",
      " [ 13  26 495]] \n",
      "\n",
      "Testing Accuracy is  :0.9076923076923077\n",
      "F1 Score :  0.9081360685048192\n"
     ]
    }
   ],
   "source": [
    "from sklearn.svm import SVC\n",
    "ClassificationAlgorithm(SVC,kernel='rbf')"
   ]
  },
  {
   "cell_type": "code",
   "execution_count": 19,
   "id": "1e7ece85-45b1-4929-afc8-8f2b5fbaad4d",
   "metadata": {},
   "outputs": [
    {
     "name": "stdout",
     "output_type": "stream",
     "text": [
      "Confusion Matrix : \n",
      " [[463  42   5]\n",
      " [ 22 420   9]\n",
      " [ 21  37 476]] \n",
      "\n",
      "Testing Accuracy is  :0.9090301003344482\n",
      "F1 Score :  0.9097357237552444\n"
     ]
    }
   ],
   "source": [
    "from sklearn.svm import SVC\n",
    "ClassificationAlgorithm(SVC,kernel='poly')"
   ]
  },
  {
   "cell_type": "markdown",
   "id": "5e201664-79e0-4194-8c8d-62b6a8b2feda",
   "metadata": {},
   "source": [
    "### Naive Bayes"
   ]
  },
  {
   "cell_type": "code",
   "execution_count": 20,
   "id": "e6512384-41cd-4754-a11f-57b8c23b1cb9",
   "metadata": {},
   "outputs": [
    {
     "name": "stderr",
     "output_type": "stream",
     "text": [
      "/Users/badalgami/opt/anaconda3/lib/python3.9/site-packages/sklearn/utils/validation.py:593: FutureWarning: np.matrix usage is deprecated in 1.0 and will raise a TypeError in 1.2. Please convert to a numpy array with np.asarray. For more information see: https://numpy.org/doc/stable/reference/generated/numpy.matrix.html\n",
      "  warnings.warn(\n",
      "/Users/badalgami/opt/anaconda3/lib/python3.9/site-packages/sklearn/utils/validation.py:593: FutureWarning: np.matrix usage is deprecated in 1.0 and will raise a TypeError in 1.2. Please convert to a numpy array with np.asarray. For more information see: https://numpy.org/doc/stable/reference/generated/numpy.matrix.html\n",
      "  warnings.warn(\n"
     ]
    },
    {
     "name": "stdout",
     "output_type": "stream",
     "text": [
      "Confusion Matrix : \n",
      " [[333  39 138]\n",
      " [ 79 223 149]\n",
      " [ 36  33 465]] \n",
      "\n",
      "Accuracy Score :  0.682943143812709\n",
      "F1 Score :  0.6758247755953466\n"
     ]
    }
   ],
   "source": [
    "from sklearn.naive_bayes import GaussianNB\n",
    "ClassificationAlgorithm_dense(GaussianNB)"
   ]
  },
  {
   "cell_type": "markdown",
   "id": "23b4e07b-678b-45f2-9945-7e6b469b9a4a",
   "metadata": {},
   "source": [
    "### BERT MODEL"
   ]
  },
  {
   "cell_type": "code",
   "execution_count": 21,
   "id": "16309f50-c6b9-4ceb-af62-f569b2a68229",
   "metadata": {},
   "outputs": [
    {
     "name": "stdout",
     "output_type": "stream",
     "text": [
      "Collecting tensorboardX\n",
      "  Downloading tensorboardX-2.5.1-py2.py3-none-any.whl (125 kB)\n",
      "\u001b[K     |████████████████████████████████| 125 kB 1.5 MB/s eta 0:00:01\n",
      "\u001b[?25hRequirement already satisfied: pandas in /Users/badalgami/opt/anaconda3/lib/python3.9/site-packages (1.4.3)\n",
      "Collecting simpletransformers\n",
      "  Downloading simpletransformers-0.63.7-py3-none-any.whl (249 kB)\n",
      "\u001b[K     |████████████████████████████████| 249 kB 4.6 MB/s eta 0:00:01\n",
      "\u001b[?25hRequirement already satisfied: transformers in /Users/badalgami/opt/anaconda3/lib/python3.9/site-packages (4.10.3)\n",
      "Requirement already satisfied: numpy in /Users/badalgami/opt/anaconda3/lib/python3.9/site-packages (from tensorboardX) (1.20.3)\n",
      "Requirement already satisfied: protobuf<=3.20.1,>=3.8.0 in /Users/badalgami/opt/anaconda3/lib/python3.9/site-packages (from tensorboardX) (3.20.0)\n",
      "Requirement already satisfied: pytz>=2020.1 in /Users/badalgami/opt/anaconda3/lib/python3.9/site-packages (from pandas) (2021.3)\n",
      "Requirement already satisfied: python-dateutil>=2.8.1 in /Users/badalgami/opt/anaconda3/lib/python3.9/site-packages (from pandas) (2.8.2)\n",
      "Collecting datasets\n",
      "  Downloading datasets-2.4.0-py3-none-any.whl (365 kB)\n",
      "\u001b[K     |████████████████████████████████| 365 kB 3.7 MB/s eta 0:00:01\n",
      "\u001b[?25hCollecting wandb>=0.10.32\n",
      "  Downloading wandb-0.13.0-py2.py3-none-any.whl (1.8 MB)\n",
      "\u001b[K     |████████████████████████████████| 1.8 MB 4.0 MB/s eta 0:00:01\n",
      "\u001b[?25hRequirement already satisfied: requests in /Users/badalgami/opt/anaconda3/lib/python3.9/site-packages (from simpletransformers) (2.26.0)\n",
      "Requirement already satisfied: scikit-learn in /Users/badalgami/opt/anaconda3/lib/python3.9/site-packages (from simpletransformers) (1.1.1)\n",
      "Requirement already satisfied: tokenizers in /Users/badalgami/opt/anaconda3/lib/python3.9/site-packages (from simpletransformers) (0.10.3)\n",
      "Requirement already satisfied: sentencepiece in /Users/badalgami/opt/anaconda3/lib/python3.9/site-packages (from simpletransformers) (0.1.96)\n",
      "Requirement already satisfied: tqdm>=4.47.0 in /Users/badalgami/opt/anaconda3/lib/python3.9/site-packages (from simpletransformers) (4.62.3)\n",
      "Collecting seqeval\n",
      "  Downloading seqeval-1.2.2.tar.gz (43 kB)\n",
      "\u001b[K     |████████████████████████████████| 43 kB 3.1 MB/s eta 0:00:01\n",
      "\u001b[?25hRequirement already satisfied: regex in /Users/badalgami/opt/anaconda3/lib/python3.9/site-packages (from simpletransformers) (2021.8.3)\n",
      "Collecting tensorboard\n",
      "  Downloading tensorboard-2.9.1-py3-none-any.whl (5.8 MB)\n",
      "\u001b[K     |████████████████████████████████| 5.8 MB 2.7 MB/s eta 0:00:01\n",
      "\u001b[?25hCollecting streamlit\n",
      "  Downloading streamlit-1.11.1-py2.py3-none-any.whl (9.1 MB)\n",
      "\u001b[K     |████████████████████████████████| 9.1 MB 15.1 MB/s eta 0:00:01    |█████████▉                      | 2.8 MB 6.2 MB/s eta 0:00:02\n",
      "\u001b[?25hRequirement already satisfied: scipy in /Users/badalgami/opt/anaconda3/lib/python3.9/site-packages (from simpletransformers) (1.7.1)\n",
      "Requirement already satisfied: sacremoses in /Users/badalgami/opt/anaconda3/lib/python3.9/site-packages (from transformers) (0.0.53)\n",
      "Requirement already satisfied: packaging in /Users/badalgami/opt/anaconda3/lib/python3.9/site-packages (from transformers) (21.0)\n",
      "Requirement already satisfied: pyyaml>=5.1 in /Users/badalgami/opt/anaconda3/lib/python3.9/site-packages (from transformers) (6.0)\n",
      "Requirement already satisfied: huggingface-hub>=0.0.12 in /Users/badalgami/opt/anaconda3/lib/python3.9/site-packages (from transformers) (0.8.1)\n",
      "Requirement already satisfied: filelock in /Users/badalgami/opt/anaconda3/lib/python3.9/site-packages (from transformers) (3.3.1)\n",
      "Requirement already satisfied: typing-extensions>=3.7.4.3 in /Users/badalgami/opt/anaconda3/lib/python3.9/site-packages (from huggingface-hub>=0.0.12->transformers) (3.10.0.2)\n",
      "Requirement already satisfied: pyparsing>=2.0.2 in /Users/badalgami/opt/anaconda3/lib/python3.9/site-packages (from packaging->transformers) (3.0.4)\n",
      "Requirement already satisfied: six>=1.5 in /Users/badalgami/opt/anaconda3/lib/python3.9/site-packages (from python-dateutil>=2.8.1->pandas) (1.16.0)\n",
      "Requirement already satisfied: setuptools in /Users/badalgami/opt/anaconda3/lib/python3.9/site-packages (from wandb>=0.10.32->simpletransformers) (58.0.4)\n",
      "Collecting GitPython>=1.0.0\n",
      "  Downloading GitPython-3.1.27-py3-none-any.whl (181 kB)\n",
      "\u001b[K     |████████████████████████████████| 181 kB 7.0 MB/s eta 0:00:01\n",
      "\u001b[?25hCollecting sentry-sdk>=1.0.0\n",
      "  Downloading sentry_sdk-1.9.0-py2.py3-none-any.whl (156 kB)\n",
      "\u001b[K     |████████████████████████████████| 156 kB 5.1 MB/s eta 0:00:01\n",
      "\u001b[?25hRequirement already satisfied: Click!=8.0.0,>=7.0 in /Users/badalgami/opt/anaconda3/lib/python3.9/site-packages (from wandb>=0.10.32->simpletransformers) (8.0.3)\n",
      "Collecting docker-pycreds>=0.4.0\n",
      "  Downloading docker_pycreds-0.4.0-py2.py3-none-any.whl (9.0 kB)\n",
      "Collecting shortuuid>=0.5.0\n",
      "  Downloading shortuuid-1.0.9-py3-none-any.whl (9.4 kB)\n",
      "Requirement already satisfied: psutil>=5.0.0 in /Users/badalgami/opt/anaconda3/lib/python3.9/site-packages (from wandb>=0.10.32->simpletransformers) (5.8.0)\n",
      "Collecting setproctitle\n",
      "  Downloading setproctitle-1.3.0-cp39-cp39-macosx_10_9_x86_64.whl (11 kB)\n",
      "Collecting promise<3,>=2.0\n",
      "  Downloading promise-2.3.tar.gz (19 kB)\n",
      "Collecting pathtools\n",
      "  Downloading pathtools-0.1.2.tar.gz (11 kB)\n",
      "Collecting gitdb<5,>=4.0.1\n",
      "  Downloading gitdb-4.0.9-py3-none-any.whl (63 kB)\n",
      "\u001b[K     |████████████████████████████████| 63 kB 4.0 MB/s eta 0:00:011\n",
      "\u001b[?25hCollecting smmap<6,>=3.0.1\n",
      "  Downloading smmap-5.0.0-py3-none-any.whl (24 kB)\n",
      "Requirement already satisfied: charset-normalizer~=2.0.0 in /Users/badalgami/opt/anaconda3/lib/python3.9/site-packages (from requests->simpletransformers) (2.0.4)\n",
      "Requirement already satisfied: certifi>=2017.4.17 in /Users/badalgami/opt/anaconda3/lib/python3.9/site-packages (from requests->simpletransformers) (2021.10.8)\n",
      "Requirement already satisfied: urllib3<1.27,>=1.21.1 in /Users/badalgami/opt/anaconda3/lib/python3.9/site-packages (from requests->simpletransformers) (1.26.7)\n",
      "Requirement already satisfied: idna<4,>=2.5 in /Users/badalgami/opt/anaconda3/lib/python3.9/site-packages (from requests->simpletransformers) (3.2)\n",
      "Collecting pyarrow>=6.0.0\n",
      "  Downloading pyarrow-9.0.0-cp39-cp39-macosx_10_13_x86_64.whl (24.0 MB)\n",
      "\u001b[K     |████████████████████████████████| 24.0 MB 3.5 MB/s eta 0:00:01\n",
      "\u001b[?25hCollecting responses<0.19\n",
      "  Downloading responses-0.18.0-py3-none-any.whl (38 kB)\n",
      "Collecting dill<0.3.6\n",
      "  Downloading dill-0.3.5.1-py2.py3-none-any.whl (95 kB)\n",
      "\u001b[K     |████████████████████████████████| 95 kB 7.9 MB/s  eta 0:00:01\n",
      "\u001b[?25hCollecting xxhash\n",
      "  Downloading xxhash-3.0.0-cp39-cp39-macosx_10_9_x86_64.whl (34 kB)\n",
      "Collecting fsspec[http]>=2021.11.1\n",
      "  Downloading fsspec-2022.7.1-py3-none-any.whl (141 kB)\n",
      "\u001b[K     |████████████████████████████████| 141 kB 7.6 MB/s eta 0:00:01\n",
      "\u001b[?25hCollecting multiprocess\n",
      "  Downloading multiprocess-0.70.13-py39-none-any.whl (132 kB)\n",
      "\u001b[K     |████████████████████████████████| 132 kB 5.0 MB/s eta 0:00:01\n",
      "\u001b[?25hCollecting aiohttp\n",
      "  Downloading aiohttp-3.8.1-cp39-cp39-macosx_10_9_x86_64.whl (574 kB)\n",
      "\u001b[K     |████████████████████████████████| 574 kB 3.3 MB/s eta 0:00:01\n",
      "\u001b[?25hCollecting aiosignal>=1.1.2\n",
      "  Downloading aiosignal-1.2.0-py3-none-any.whl (8.2 kB)\n",
      "Collecting multidict<7.0,>=4.5\n",
      "  Downloading multidict-6.0.2-cp39-cp39-macosx_10_9_x86_64.whl (28 kB)\n",
      "Requirement already satisfied: attrs>=17.3.0 in /Users/badalgami/opt/anaconda3/lib/python3.9/site-packages (from aiohttp->datasets->simpletransformers) (21.2.0)\n",
      "Collecting async-timeout<5.0,>=4.0.0a3\n",
      "  Downloading async_timeout-4.0.2-py3-none-any.whl (5.8 kB)\n",
      "Collecting frozenlist>=1.1.1\n",
      "  Downloading frozenlist-1.3.1-cp39-cp39-macosx_10_9_x86_64.whl (36 kB)\n",
      "Collecting yarl<2.0,>=1.0\n",
      "  Downloading yarl-1.8.1-cp39-cp39-macosx_10_9_x86_64.whl (61 kB)\n",
      "\u001b[K     |████████████████████████████████| 61 kB 4.7 MB/s eta 0:00:011\n",
      "\u001b[?25hRequirement already satisfied: joblib in /Users/badalgami/opt/anaconda3/lib/python3.9/site-packages (from sacremoses->transformers) (1.1.0)\n",
      "Requirement already satisfied: threadpoolctl>=2.0.0 in /Users/badalgami/opt/anaconda3/lib/python3.9/site-packages (from scikit-learn->simpletransformers) (2.2.0)\n",
      "Collecting cachetools>=4.0\n",
      "  Downloading cachetools-5.2.0-py3-none-any.whl (9.3 kB)\n",
      "Requirement already satisfied: tornado>=5.0 in /Users/badalgami/opt/anaconda3/lib/python3.9/site-packages (from streamlit->simpletransformers) (6.1)\n",
      "Collecting altair>=3.2.0\n",
      "  Downloading altair-4.2.0-py3-none-any.whl (812 kB)\n",
      "\u001b[K     |████████████████████████████████| 812 kB 2.7 MB/s eta 0:00:01\n",
      "\u001b[?25hRequirement already satisfied: importlib-metadata>=1.4 in /Users/badalgami/opt/anaconda3/lib/python3.9/site-packages (from streamlit->simpletransformers) (4.8.1)\n",
      "Collecting tzlocal>=1.1\n",
      "  Downloading tzlocal-4.2-py3-none-any.whl (19 kB)\n",
      "Collecting pydeck>=0.1.dev5\n",
      "  Downloading pydeck-0.7.1-py2.py3-none-any.whl (4.3 MB)\n",
      "\u001b[K     |████████████████████████████████| 4.3 MB 2.6 MB/s eta 0:00:01\n",
      "\u001b[?25hCollecting semver\n",
      "  Downloading semver-2.13.0-py2.py3-none-any.whl (12 kB)\n",
      "Requirement already satisfied: toml in /Users/badalgami/opt/anaconda3/lib/python3.9/site-packages (from streamlit->simpletransformers) (0.10.2)\n",
      "Requirement already satisfied: pillow>=6.2.0 in /Users/badalgami/opt/anaconda3/lib/python3.9/site-packages (from streamlit->simpletransformers) (8.4.0)\n",
      "Collecting validators>=0.2\n",
      "  Downloading validators-0.20.0.tar.gz (30 kB)\n",
      "Collecting pympler>=0.9\n",
      "  Downloading Pympler-1.0.1-py3-none-any.whl (164 kB)\n",
      "\u001b[K     |████████████████████████████████| 164 kB 5.9 MB/s eta 0:00:01\n",
      "\u001b[?25hCollecting rich>=10.11.0\n",
      "  Downloading rich-12.5.1-py3-none-any.whl (235 kB)\n",
      "\u001b[K     |████████████████████████████████| 235 kB 6.0 MB/s eta 0:00:01\n",
      "\u001b[?25hCollecting blinker>=1.0.0\n",
      "  Downloading blinker-1.5-py2.py3-none-any.whl (12 kB)\n",
      "Requirement already satisfied: jsonschema>=3.0 in /Users/badalgami/opt/anaconda3/lib/python3.9/site-packages (from altair>=3.2.0->streamlit->simpletransformers) (3.2.0)\n",
      "Requirement already satisfied: entrypoints in /Users/badalgami/opt/anaconda3/lib/python3.9/site-packages (from altair>=3.2.0->streamlit->simpletransformers) (0.3)\n",
      "Requirement already satisfied: jinja2 in /Users/badalgami/opt/anaconda3/lib/python3.9/site-packages (from altair>=3.2.0->streamlit->simpletransformers) (2.11.3)\n",
      "Requirement already satisfied: toolz in /Users/badalgami/opt/anaconda3/lib/python3.9/site-packages (from altair>=3.2.0->streamlit->simpletransformers) (0.11.1)\n",
      "Requirement already satisfied: zipp>=0.5 in /Users/badalgami/opt/anaconda3/lib/python3.9/site-packages (from importlib-metadata>=1.4->streamlit->simpletransformers) (3.6.0)\n",
      "Requirement already satisfied: pyrsistent>=0.14.0 in /Users/badalgami/opt/anaconda3/lib/python3.9/site-packages (from jsonschema>=3.0->altair>=3.2.0->streamlit->simpletransformers) (0.18.0)\n",
      "Requirement already satisfied: traitlets>=4.3.2 in /Users/badalgami/opt/anaconda3/lib/python3.9/site-packages (from pydeck>=0.1.dev5->streamlit->simpletransformers) (5.1.0)\n",
      "Requirement already satisfied: ipywidgets>=7.0.0 in /Users/badalgami/opt/anaconda3/lib/python3.9/site-packages (from pydeck>=0.1.dev5->streamlit->simpletransformers) (7.6.5)\n",
      "Requirement already satisfied: ipykernel>=5.1.2 in /Users/badalgami/opt/anaconda3/lib/python3.9/site-packages (from pydeck>=0.1.dev5->streamlit->simpletransformers) (6.4.1)\n",
      "Requirement already satisfied: debugpy<2.0,>=1.0.0 in /Users/badalgami/opt/anaconda3/lib/python3.9/site-packages (from ipykernel>=5.1.2->pydeck>=0.1.dev5->streamlit->simpletransformers) (1.4.1)\n",
      "Requirement already satisfied: ipython<8.0,>=7.23.1 in /Users/badalgami/opt/anaconda3/lib/python3.9/site-packages (from ipykernel>=5.1.2->pydeck>=0.1.dev5->streamlit->simpletransformers) (7.29.0)\n",
      "Requirement already satisfied: jupyter-client<8.0 in /Users/badalgami/opt/anaconda3/lib/python3.9/site-packages (from ipykernel>=5.1.2->pydeck>=0.1.dev5->streamlit->simpletransformers) (6.1.12)\n",
      "Requirement already satisfied: appnope in /Users/badalgami/opt/anaconda3/lib/python3.9/site-packages (from ipykernel>=5.1.2->pydeck>=0.1.dev5->streamlit->simpletransformers) (0.1.2)\n",
      "Requirement already satisfied: matplotlib-inline<0.2.0,>=0.1.0 in /Users/badalgami/opt/anaconda3/lib/python3.9/site-packages (from ipykernel>=5.1.2->pydeck>=0.1.dev5->streamlit->simpletransformers) (0.1.2)\n",
      "Requirement already satisfied: ipython-genutils in /Users/badalgami/opt/anaconda3/lib/python3.9/site-packages (from ipykernel>=5.1.2->pydeck>=0.1.dev5->streamlit->simpletransformers) (0.2.0)\n",
      "Requirement already satisfied: backcall in /Users/badalgami/opt/anaconda3/lib/python3.9/site-packages (from ipython<8.0,>=7.23.1->ipykernel>=5.1.2->pydeck>=0.1.dev5->streamlit->simpletransformers) (0.2.0)\n",
      "Requirement already satisfied: prompt-toolkit!=3.0.0,!=3.0.1,<3.1.0,>=2.0.0 in /Users/badalgami/opt/anaconda3/lib/python3.9/site-packages (from ipython<8.0,>=7.23.1->ipykernel>=5.1.2->pydeck>=0.1.dev5->streamlit->simpletransformers) (3.0.20)\n",
      "Requirement already satisfied: pexpect>4.3 in /Users/badalgami/opt/anaconda3/lib/python3.9/site-packages (from ipython<8.0,>=7.23.1->ipykernel>=5.1.2->pydeck>=0.1.dev5->streamlit->simpletransformers) (4.8.0)\n",
      "Requirement already satisfied: pygments in /Users/badalgami/opt/anaconda3/lib/python3.9/site-packages (from ipython<8.0,>=7.23.1->ipykernel>=5.1.2->pydeck>=0.1.dev5->streamlit->simpletransformers) (2.10.0)\n",
      "Requirement already satisfied: decorator in /Users/badalgami/opt/anaconda3/lib/python3.9/site-packages (from ipython<8.0,>=7.23.1->ipykernel>=5.1.2->pydeck>=0.1.dev5->streamlit->simpletransformers) (5.1.0)\n",
      "Requirement already satisfied: pickleshare in /Users/badalgami/opt/anaconda3/lib/python3.9/site-packages (from ipython<8.0,>=7.23.1->ipykernel>=5.1.2->pydeck>=0.1.dev5->streamlit->simpletransformers) (0.7.5)\n",
      "Requirement already satisfied: jedi>=0.16 in /Users/badalgami/opt/anaconda3/lib/python3.9/site-packages (from ipython<8.0,>=7.23.1->ipykernel>=5.1.2->pydeck>=0.1.dev5->streamlit->simpletransformers) (0.18.0)\n",
      "Requirement already satisfied: nbformat>=4.2.0 in /Users/badalgami/opt/anaconda3/lib/python3.9/site-packages (from ipywidgets>=7.0.0->pydeck>=0.1.dev5->streamlit->simpletransformers) (5.1.3)\n",
      "Requirement already satisfied: jupyterlab-widgets>=1.0.0 in /Users/badalgami/opt/anaconda3/lib/python3.9/site-packages (from ipywidgets>=7.0.0->pydeck>=0.1.dev5->streamlit->simpletransformers) (1.0.0)\n",
      "Requirement already satisfied: widgetsnbextension~=3.5.0 in /Users/badalgami/opt/anaconda3/lib/python3.9/site-packages (from ipywidgets>=7.0.0->pydeck>=0.1.dev5->streamlit->simpletransformers) (3.5.1)\n",
      "Requirement already satisfied: parso<0.9.0,>=0.8.0 in /Users/badalgami/opt/anaconda3/lib/python3.9/site-packages (from jedi>=0.16->ipython<8.0,>=7.23.1->ipykernel>=5.1.2->pydeck>=0.1.dev5->streamlit->simpletransformers) (0.8.2)\n",
      "Requirement already satisfied: MarkupSafe>=0.23 in /Users/badalgami/opt/anaconda3/lib/python3.9/site-packages (from jinja2->altair>=3.2.0->streamlit->simpletransformers) (1.1.1)\n",
      "Requirement already satisfied: pyzmq>=13 in /Users/badalgami/opt/anaconda3/lib/python3.9/site-packages (from jupyter-client<8.0->ipykernel>=5.1.2->pydeck>=0.1.dev5->streamlit->simpletransformers) (22.2.1)\n",
      "Requirement already satisfied: jupyter-core>=4.6.0 in /Users/badalgami/opt/anaconda3/lib/python3.9/site-packages (from jupyter-client<8.0->ipykernel>=5.1.2->pydeck>=0.1.dev5->streamlit->simpletransformers) (4.8.1)\n",
      "Requirement already satisfied: ptyprocess>=0.5 in /Users/badalgami/opt/anaconda3/lib/python3.9/site-packages (from pexpect>4.3->ipython<8.0,>=7.23.1->ipykernel>=5.1.2->pydeck>=0.1.dev5->streamlit->simpletransformers) (0.7.0)\n",
      "Requirement already satisfied: wcwidth in /Users/badalgami/opt/anaconda3/lib/python3.9/site-packages (from prompt-toolkit!=3.0.0,!=3.0.1,<3.1.0,>=2.0.0->ipython<8.0,>=7.23.1->ipykernel>=5.1.2->pydeck>=0.1.dev5->streamlit->simpletransformers) (0.2.5)\n",
      "Collecting commonmark<0.10.0,>=0.9.0\n",
      "  Downloading commonmark-0.9.1-py2.py3-none-any.whl (51 kB)\n",
      "\u001b[K     |████████████████████████████████| 51 kB 3.6 MB/s eta 0:00:011\n",
      "\u001b[?25hCollecting pytz-deprecation-shim\n",
      "  Downloading pytz_deprecation_shim-0.1.0.post0-py2.py3-none-any.whl (15 kB)\n",
      "Requirement already satisfied: notebook>=4.4.1 in /Users/badalgami/opt/anaconda3/lib/python3.9/site-packages (from widgetsnbextension~=3.5.0->ipywidgets>=7.0.0->pydeck>=0.1.dev5->streamlit->simpletransformers) (6.4.5)\n",
      "Requirement already satisfied: Send2Trash>=1.5.0 in /Users/badalgami/opt/anaconda3/lib/python3.9/site-packages (from notebook>=4.4.1->widgetsnbextension~=3.5.0->ipywidgets>=7.0.0->pydeck>=0.1.dev5->streamlit->simpletransformers) (1.8.0)\n",
      "Requirement already satisfied: nbconvert in /Users/badalgami/opt/anaconda3/lib/python3.9/site-packages (from notebook>=4.4.1->widgetsnbextension~=3.5.0->ipywidgets>=7.0.0->pydeck>=0.1.dev5->streamlit->simpletransformers) (6.1.0)\n",
      "Requirement already satisfied: prometheus-client in /Users/badalgami/opt/anaconda3/lib/python3.9/site-packages (from notebook>=4.4.1->widgetsnbextension~=3.5.0->ipywidgets>=7.0.0->pydeck>=0.1.dev5->streamlit->simpletransformers) (0.11.0)\n",
      "Requirement already satisfied: terminado>=0.8.3 in /Users/badalgami/opt/anaconda3/lib/python3.9/site-packages (from notebook>=4.4.1->widgetsnbextension~=3.5.0->ipywidgets>=7.0.0->pydeck>=0.1.dev5->streamlit->simpletransformers) (0.9.4)\n",
      "Requirement already satisfied: argon2-cffi in /Users/badalgami/opt/anaconda3/lib/python3.9/site-packages (from notebook>=4.4.1->widgetsnbextension~=3.5.0->ipywidgets>=7.0.0->pydeck>=0.1.dev5->streamlit->simpletransformers) (20.1.0)\n",
      "Requirement already satisfied: cffi>=1.0.0 in /Users/badalgami/opt/anaconda3/lib/python3.9/site-packages (from argon2-cffi->notebook>=4.4.1->widgetsnbextension~=3.5.0->ipywidgets>=7.0.0->pydeck>=0.1.dev5->streamlit->simpletransformers) (1.14.6)\n",
      "Requirement already satisfied: pycparser in /Users/badalgami/opt/anaconda3/lib/python3.9/site-packages (from cffi>=1.0.0->argon2-cffi->notebook>=4.4.1->widgetsnbextension~=3.5.0->ipywidgets>=7.0.0->pydeck>=0.1.dev5->streamlit->simpletransformers) (2.20)\n",
      "Requirement already satisfied: pandocfilters>=1.4.1 in /Users/badalgami/opt/anaconda3/lib/python3.9/site-packages (from nbconvert->notebook>=4.4.1->widgetsnbextension~=3.5.0->ipywidgets>=7.0.0->pydeck>=0.1.dev5->streamlit->simpletransformers) (1.4.3)\n",
      "Requirement already satisfied: nbclient<0.6.0,>=0.5.0 in /Users/badalgami/opt/anaconda3/lib/python3.9/site-packages (from nbconvert->notebook>=4.4.1->widgetsnbextension~=3.5.0->ipywidgets>=7.0.0->pydeck>=0.1.dev5->streamlit->simpletransformers) (0.5.3)\n",
      "Requirement already satisfied: mistune<2,>=0.8.1 in /Users/badalgami/opt/anaconda3/lib/python3.9/site-packages (from nbconvert->notebook>=4.4.1->widgetsnbextension~=3.5.0->ipywidgets>=7.0.0->pydeck>=0.1.dev5->streamlit->simpletransformers) (0.8.4)\n",
      "Requirement already satisfied: bleach in /Users/badalgami/opt/anaconda3/lib/python3.9/site-packages (from nbconvert->notebook>=4.4.1->widgetsnbextension~=3.5.0->ipywidgets>=7.0.0->pydeck>=0.1.dev5->streamlit->simpletransformers) (4.0.0)\n",
      "Requirement already satisfied: jupyterlab-pygments in /Users/badalgami/opt/anaconda3/lib/python3.9/site-packages (from nbconvert->notebook>=4.4.1->widgetsnbextension~=3.5.0->ipywidgets>=7.0.0->pydeck>=0.1.dev5->streamlit->simpletransformers) (0.1.2)\n",
      "Requirement already satisfied: testpath in /Users/badalgami/opt/anaconda3/lib/python3.9/site-packages (from nbconvert->notebook>=4.4.1->widgetsnbextension~=3.5.0->ipywidgets>=7.0.0->pydeck>=0.1.dev5->streamlit->simpletransformers) (0.5.0)\n",
      "Requirement already satisfied: defusedxml in /Users/badalgami/opt/anaconda3/lib/python3.9/site-packages (from nbconvert->notebook>=4.4.1->widgetsnbextension~=3.5.0->ipywidgets>=7.0.0->pydeck>=0.1.dev5->streamlit->simpletransformers) (0.7.1)\n",
      "Requirement already satisfied: async-generator in /Users/badalgami/opt/anaconda3/lib/python3.9/site-packages (from nbclient<0.6.0,>=0.5.0->nbconvert->notebook>=4.4.1->widgetsnbextension~=3.5.0->ipywidgets>=7.0.0->pydeck>=0.1.dev5->streamlit->simpletransformers) (1.10)\n",
      "Requirement already satisfied: nest-asyncio in /Users/badalgami/opt/anaconda3/lib/python3.9/site-packages (from nbclient<0.6.0,>=0.5.0->nbconvert->notebook>=4.4.1->widgetsnbextension~=3.5.0->ipywidgets>=7.0.0->pydeck>=0.1.dev5->streamlit->simpletransformers) (1.5.1)\n",
      "Requirement already satisfied: webencodings in /Users/badalgami/opt/anaconda3/lib/python3.9/site-packages (from bleach->nbconvert->notebook>=4.4.1->widgetsnbextension~=3.5.0->ipywidgets>=7.0.0->pydeck>=0.1.dev5->streamlit->simpletransformers) (0.5.1)\n",
      "Collecting tzdata\n",
      "  Downloading tzdata-2022.1-py2.py3-none-any.whl (339 kB)\n",
      "\u001b[K     |████████████████████████████████| 339 kB 2.7 MB/s eta 0:00:01\n",
      "\u001b[?25hCollecting protobuf<=3.20.1,>=3.8.0\n",
      "  Downloading protobuf-3.19.4-cp39-cp39-macosx_10_9_x86_64.whl (961 kB)\n",
      "\u001b[K     |████████████████████████████████| 961 kB 4.5 MB/s eta 0:00:01\n",
      "\u001b[?25hCollecting tensorboard-plugin-wit>=1.6.0\n",
      "  Downloading tensorboard_plugin_wit-1.8.1-py3-none-any.whl (781 kB)\n",
      "\u001b[K     |████████████████████████████████| 781 kB 7.9 MB/s eta 0:00:01\n",
      "\u001b[?25hRequirement already satisfied: werkzeug>=1.0.1 in /Users/badalgami/opt/anaconda3/lib/python3.9/site-packages (from tensorboard->simpletransformers) (2.0.2)\n",
      "Collecting tensorboard-data-server<0.7.0,>=0.6.0\n",
      "  Downloading tensorboard_data_server-0.6.1-py3-none-macosx_10_9_x86_64.whl (3.5 MB)\n",
      "\u001b[K     |████████████████████████████████| 3.5 MB 3.0 MB/s eta 0:00:01\n",
      "\u001b[?25hRequirement already satisfied: wheel>=0.26 in /Users/badalgami/opt/anaconda3/lib/python3.9/site-packages (from tensorboard->simpletransformers) (0.37.0)\n",
      "Collecting google-auth<3,>=1.6.3\n",
      "  Downloading google_auth-2.9.1-py2.py3-none-any.whl (167 kB)\n",
      "\u001b[K     |████████████████████████████████| 167 kB 6.9 MB/s eta 0:00:01\n",
      "\u001b[?25hCollecting markdown>=2.6.8\n",
      "  Downloading Markdown-3.4.1-py3-none-any.whl (93 kB)\n",
      "\u001b[K     |████████████████████████████████| 93 kB 4.7 MB/s  eta 0:00:01\n",
      "\u001b[?25hCollecting google-auth-oauthlib<0.5,>=0.4.1\n",
      "  Downloading google_auth_oauthlib-0.4.6-py2.py3-none-any.whl (18 kB)\n",
      "Requirement already satisfied: absl-py>=0.4 in /Users/badalgami/opt/anaconda3/lib/python3.9/site-packages (from tensorboard->simpletransformers) (1.0.0)\n",
      "Collecting grpcio>=1.24.3\n",
      "  Downloading grpcio-1.47.0-cp39-cp39-macosx_10_10_x86_64.whl (4.4 MB)\n",
      "\u001b[K     |████████████████████████████████| 4.4 MB 4.1 MB/s eta 0:00:011\n",
      "\u001b[?25hCollecting rsa<5,>=3.1.4\n",
      "  Downloading rsa-4.9-py3-none-any.whl (34 kB)\n",
      "Collecting pyasn1-modules>=0.2.1\n",
      "  Downloading pyasn1_modules-0.2.8-py2.py3-none-any.whl (155 kB)\n",
      "\u001b[K     |████████████████████████████████| 155 kB 4.7 MB/s eta 0:00:01\n",
      "\u001b[?25hCollecting requests-oauthlib>=0.7.0\n",
      "  Downloading requests_oauthlib-1.3.1-py2.py3-none-any.whl (23 kB)\n",
      "Collecting pyasn1<0.5.0,>=0.4.6\n",
      "  Downloading pyasn1-0.4.8-py2.py3-none-any.whl (77 kB)\n",
      "\u001b[K     |████████████████████████████████| 77 kB 4.3 MB/s eta 0:00:01\n",
      "\u001b[?25hCollecting oauthlib>=3.0.0\n",
      "  Downloading oauthlib-3.2.0-py3-none-any.whl (151 kB)\n",
      "\u001b[K     |████████████████████████████████| 151 kB 4.3 MB/s eta 0:00:01\n",
      "\u001b[?25hBuilding wheels for collected packages: promise, pathtools, seqeval, validators\n",
      "  Building wheel for promise (setup.py) ... \u001b[?25ldone\n",
      "\u001b[?25h  Created wheel for promise: filename=promise-2.3-py3-none-any.whl size=21502 sha256=17c3beb69fe7b4bfce2a802eaccf3de1eb541b4f1331bad9f8a2c5b3ebc6b939\n",
      "  Stored in directory: /Users/badalgami/Library/Caches/pip/wheels/e1/e8/83/ddea66100678d139b14bc87692ece57c6a2a937956d2532608\n",
      "  Building wheel for pathtools (setup.py) ... \u001b[?25ldone\n",
      "\u001b[?25h  Created wheel for pathtools: filename=pathtools-0.1.2-py3-none-any.whl size=8807 sha256=1258ad7d1c8399bbf653375a80c85ce77d810fb34c4ae13ef6b3fac9bd4576af\n",
      "  Stored in directory: /Users/badalgami/Library/Caches/pip/wheels/b7/0a/67/ada2a22079218c75a88361c0782855cc72aebc4d18d0289d05\n",
      "  Building wheel for seqeval (setup.py) ... \u001b[?25ldone\n",
      "\u001b[?25h  Created wheel for seqeval: filename=seqeval-1.2.2-py3-none-any.whl size=16181 sha256=dd919028346ee52b22dc34efc454bcb64760c811abfe9087c42be43f3aa9ffee\n",
      "  Stored in directory: /Users/badalgami/Library/Caches/pip/wheels/e2/a5/92/2c80d1928733611c2747a9820e1324a6835524d9411510c142\n",
      "  Building wheel for validators (setup.py) ... \u001b[?25ldone\n",
      "\u001b[?25h  Created wheel for validators: filename=validators-0.20.0-py3-none-any.whl size=19583 sha256=e0d803ca1aefa91dae15d581d6a80f304086ef3e5aae185da42d02c43d79792d\n",
      "  Stored in directory: /Users/badalgami/Library/Caches/pip/wheels/2d/f0/a8/1094fca7a7e5d0d12ff56e0c64675d72aa5cc81a5fc200e849\n",
      "Successfully built promise pathtools seqeval validators\n",
      "Installing collected packages: pyasn1, multidict, frozenlist, yarl, tzdata, smmap, rsa, pyasn1-modules, oauthlib, cachetools, async-timeout, aiosignal, requests-oauthlib, pytz-deprecation-shim, google-auth, gitdb, fsspec, dill, commonmark, aiohttp, xxhash, validators, tzlocal, tensorboard-plugin-wit, tensorboard-data-server, shortuuid, setproctitle, sentry-sdk, semver, rich, responses, pympler, pydeck, pyarrow, protobuf, promise, pathtools, multiprocess, markdown, grpcio, google-auth-oauthlib, GitPython, docker-pycreds, blinker, altair, wandb, tensorboard, streamlit, seqeval, datasets, tensorboardX, simpletransformers\n",
      "  Attempting uninstall: fsspec\n",
      "    Found existing installation: fsspec 2021.8.1\n",
      "    Uninstalling fsspec-2021.8.1:\n",
      "      Successfully uninstalled fsspec-2021.8.1\n",
      "  Attempting uninstall: protobuf\n",
      "    Found existing installation: protobuf 3.20.0\n",
      "    Uninstalling protobuf-3.20.0:\n",
      "      Successfully uninstalled protobuf-3.20.0\n",
      "Successfully installed GitPython-3.1.27 aiohttp-3.8.1 aiosignal-1.2.0 altair-4.2.0 async-timeout-4.0.2 blinker-1.5 cachetools-5.2.0 commonmark-0.9.1 datasets-2.4.0 dill-0.3.5.1 docker-pycreds-0.4.0 frozenlist-1.3.1 fsspec-2022.7.1 gitdb-4.0.9 google-auth-2.9.1 google-auth-oauthlib-0.4.6 grpcio-1.47.0 markdown-3.4.1 multidict-6.0.2 multiprocess-0.70.13 oauthlib-3.2.0 pathtools-0.1.2 promise-2.3 protobuf-3.19.4 pyarrow-9.0.0 pyasn1-0.4.8 pyasn1-modules-0.2.8 pydeck-0.7.1 pympler-1.0.1 pytz-deprecation-shim-0.1.0.post0 requests-oauthlib-1.3.1 responses-0.18.0 rich-12.5.1 rsa-4.9 semver-2.13.0 sentry-sdk-1.9.0 seqeval-1.2.2 setproctitle-1.3.0 shortuuid-1.0.9 simpletransformers-0.63.7 smmap-5.0.0 streamlit-1.11.1 tensorboard-2.9.1 tensorboard-data-server-0.6.1 tensorboard-plugin-wit-1.8.1 tensorboardX-2.5.1 tzdata-2022.1 tzlocal-4.2 validators-0.20.0 wandb-0.13.0 xxhash-3.0.0 yarl-1.8.1\n"
     ]
    }
   ],
   "source": [
    "! pip install tensorboardX pandas simpletransformers transformers"
   ]
  },
  {
   "cell_type": "code",
   "execution_count": 25,
   "id": "49062b89-0db3-4169-ad90-fea7fbc393f4",
   "metadata": {},
   "outputs": [],
   "source": [
    "from simpletransformers.classification import ClassificationModel"
   ]
  },
  {
   "cell_type": "code",
   "execution_count": 26,
   "id": "d796374e-0732-4b5b-acc8-124180d38b29",
   "metadata": {},
   "outputs": [
    {
     "name": "stdout",
     "output_type": "stream",
     "text": [
      "{'business', 'sports', 'entertainment'}\n"
     ]
    }
   ],
   "source": [
    "print(set(Y_train.values))"
   ]
  },
  {
   "cell_type": "code",
   "execution_count": 27,
   "id": "4e02036f-d137-40d9-b5d6-023822a11654",
   "metadata": {},
   "outputs": [
    {
     "name": "stdout",
     "output_type": "stream",
     "text": [
      "                                                                                                                                                                                                                                                          paras  \\\n",
      "0  नेपाली कथानक फिल्म ‘लभ स्टेसन’ को टिम यति बेला भियतनाम र इन्डोनेसियामा छ । फिल्मको गीत छायांकनका लागि अभिनेता प्रदीप खड्का, अभिनेत्री जसिता गुरुङ, निर्माता गोविन्द शाही, कोरियोग्राफर शिशिर खाती, क्यामेरा पर्सन आलोक शुक्लासहितको टिम यी देश पुगेका हुन् ।   \n",
      "1                                                                                                                                   दसैंको मुखमा अस्वाभाविक बढेको तरकारी तथा फलफूलको भाउ घट्न थालेको छ । उत्पादन वृद्धिसँगै सहज आपूर्तिका कारण मूल्य घटेको हो ।   \n",
      "2                                                                                                                                    एशियाकै ठूलो बियर कम्पनी मध्येको युनाइटेड ब्रुअरीज लिमिटेडले यति ब्रुअरीसँगको सहकार्यमा किङ्गफिसर बियर बजारमा ल्याएको छ ।    \n",
      "3                                                        संसारका धनाढ्यहरू अन्तरिक्ष यात्रालाई सस्तो र व्यावसायिक रूपमा साकार बनाउने अभियानमा सामेल हुने क्रम बढ्दो छ । यिनैमध्येका हुन् अमेरिकी अर्बपति इलन मस्क, जेफ बेजोस् र बेलायती टाइकुन रिचर्ड ब्रानसन ।   \n",
      "4                                                                              निकेश खड्का निर्देशित फिल्म ‘फाटेको जुत्ता’ को हालै सार्वजनिक गीतमा अभिनेता सौगात मल्ल र प्रियंका कार्की फिचरिङ छन् । जसमा सौगातले प्रियंकासँग माफी माग्ने मुडमा फकाइरहेका छन् ।   \n",
      "\n",
      "   label  \n",
      "0      1  \n",
      "1      0  \n",
      "2      0  \n",
      "3      0  \n",
      "4      1  \n"
     ]
    }
   ],
   "source": [
    "from sklearn import preprocessing\n",
    "labeler = preprocessing.LabelEncoder()\n",
    "\n",
    "df3 = pd.DataFrame(X_train)\n",
    "df3['label'] = labeler.fit_transform(Y_train)\n",
    "print(df3.head())"
   ]
  },
  {
   "cell_type": "code",
   "execution_count": 29,
   "id": "2888a5a4-0e42-4fba-9541-dc2968d92b5c",
   "metadata": {},
   "outputs": [
    {
     "data": {
      "application/vnd.jupyter.widget-view+json": {
       "model_id": "07a069821bc64440a3b2fe34a6721004",
       "version_major": 2,
       "version_minor": 0
      },
      "text/plain": [
       "Downloading:   0%|          | 0.00/672M [00:00<?, ?B/s]"
      ]
     },
     "metadata": {},
     "output_type": "display_data"
    },
    {
     "name": "stderr",
     "output_type": "stream",
     "text": [
      "Some weights of the model checkpoint at bert-base-multilingual-uncased were not used when initializing BertForSequenceClassification: ['cls.predictions.transform.LayerNorm.weight', 'cls.predictions.transform.dense.weight', 'cls.predictions.transform.dense.bias', 'cls.predictions.decoder.weight', 'cls.seq_relationship.bias', 'cls.predictions.transform.LayerNorm.bias', 'cls.predictions.bias', 'cls.seq_relationship.weight']\n",
      "- This IS expected if you are initializing BertForSequenceClassification from the checkpoint of a model trained on another task or with another architecture (e.g. initializing a BertForSequenceClassification model from a BertForPreTraining model).\n",
      "- This IS NOT expected if you are initializing BertForSequenceClassification from the checkpoint of a model that you expect to be exactly identical (initializing a BertForSequenceClassification model from a BertForSequenceClassification model).\n",
      "Some weights of BertForSequenceClassification were not initialized from the model checkpoint at bert-base-multilingual-uncased and are newly initialized: ['classifier.weight', 'classifier.bias']\n",
      "You should probably TRAIN this model on a down-stream task to be able to use it for predictions and inference.\n"
     ]
    },
    {
     "data": {
      "application/vnd.jupyter.widget-view+json": {
       "model_id": "b763b6c180354db69cd9d63b05c701e2",
       "version_major": 2,
       "version_minor": 0
      },
      "text/plain": [
       "Downloading:   0%|          | 0.00/872k [00:00<?, ?B/s]"
      ]
     },
     "metadata": {},
     "output_type": "display_data"
    },
    {
     "data": {
      "application/vnd.jupyter.widget-view+json": {
       "model_id": "2d68ec41c9d94cbe8c87f5bc6b62fe05",
       "version_major": 2,
       "version_minor": 0
      },
      "text/plain": [
       "Downloading:   0%|          | 0.00/1.72M [00:00<?, ?B/s]"
      ]
     },
     "metadata": {},
     "output_type": "display_data"
    },
    {
     "data": {
      "application/vnd.jupyter.widget-view+json": {
       "model_id": "9ea4400b1c2d4a86addc2e752f78c608",
       "version_major": 2,
       "version_minor": 0
      },
      "text/plain": [
       "Downloading:   0%|          | 0.00/28.0 [00:00<?, ?B/s]"
      ]
     },
     "metadata": {},
     "output_type": "display_data"
    },
    {
     "name": "stderr",
     "output_type": "stream",
     "text": [
      "/Users/badalgami/opt/anaconda3/lib/python3.9/site-packages/simpletransformers/classification/classification_model.py:601: UserWarning: Dataframe headers not specified. Falling back to using column 0 as text and column 1 as labels.\n",
      "  warnings.warn(\n"
     ]
    },
    {
     "data": {
      "application/vnd.jupyter.widget-view+json": {
       "model_id": "d2980e07ed58443ba941bca3442f0e80",
       "version_major": 2,
       "version_minor": 0
      },
      "text/plain": [
       "  0%|          | 0/5975 [00:00<?, ?it/s]"
      ]
     },
     "metadata": {},
     "output_type": "display_data"
    },
    {
     "name": "stdout",
     "output_type": "stream",
     "text": [
      "huggingface/tokenizers: The current process just got forked, after parallelism has already been used. Disabling parallelism to avoid deadlocks...\n",
      "To disable this warning, you can either:\n",
      "\t- Avoid using `tokenizers` before the fork if possible\n",
      "\t- Explicitly set the environment variable TOKENIZERS_PARALLELISM=(true | false)\n",
      "huggingface/tokenizers: The current process just got forked, after parallelism has already been used. Disabling parallelism to avoid deadlocks...\n",
      "To disable this warning, you can either:\n",
      "\t- Avoid using `tokenizers` before the fork if possible\n",
      "huggingface/tokenizers: The current process just got forked, after parallelism has already been used. Disabling parallelism to avoid deadlocks...\n",
      "To disable this warning, you can either:\n",
      "\t- Explicitly set the environment variable TOKENIZERS_PARALLELISM=(true | false)\n",
      "\t- Avoid using `tokenizers` before the fork if possible\n",
      "\t- Explicitly set the environment variable TOKENIZERS_PARALLELISM=(true | false)\n",
      "huggingface/tokenizers: The current process just got forked, after parallelism has already been used. Disabling parallelism to avoid deadlocks...\n",
      "To disable this warning, you can either:\n",
      "\t- Avoid using `tokenizers` before the fork if possible\n",
      "\t- Explicitly set the environment variable TOKENIZERS_PARALLELISM=(true | false)\n",
      "huggingface/tokenizers: The current process just got forked, after parallelism has already been used. Disabling parallelism to avoid deadlocks...\n",
      "To disable this warning, you can either:\n",
      "\t- Avoid using `tokenizers` before the fork if possible\n",
      "\t- Explicitly set the environment variable TOKENIZERS_PARALLELISM=(true | false)\n",
      "huggingface/tokenizers: The current process just got forked, after parallelism has already been used. Disabling parallelism to avoid deadlocks...\n",
      "To disable this warning, you can either:\n",
      "\t- Avoid using `tokenizers` before the fork if possible\n",
      "\t- Explicitly set the environment variable TOKENIZERS_PARALLELISM=(true | false)\n"
     ]
    },
    {
     "data": {
      "application/vnd.jupyter.widget-view+json": {
       "model_id": "ce3def8a9bf74c6a9fcbf0adba50f580",
       "version_major": 2,
       "version_minor": 0
      },
      "text/plain": [
       "Epoch:   0%|          | 0/3 [00:00<?, ?it/s]"
      ]
     },
     "metadata": {},
     "output_type": "display_data"
    },
    {
     "data": {
      "application/vnd.jupyter.widget-view+json": {
       "model_id": "aa950b9dd21c4ad1852687d5f3dae2e2",
       "version_major": 2,
       "version_minor": 0
      },
      "text/plain": [
       "Running Epoch 0 of 3:   0%|          | 0/747 [00:00<?, ?it/s]"
      ]
     },
     "metadata": {},
     "output_type": "display_data"
    },
    {
     "data": {
      "application/vnd.jupyter.widget-view+json": {
       "model_id": "e68948cc430d432a8d5d2d46f8606da8",
       "version_major": 2,
       "version_minor": 0
      },
      "text/plain": [
       "Running Epoch 1 of 3:   0%|          | 0/747 [00:00<?, ?it/s]"
      ]
     },
     "metadata": {},
     "output_type": "display_data"
    },
    {
     "data": {
      "application/vnd.jupyter.widget-view+json": {
       "model_id": "c02e7c3c1ec44bcda3ba4b3bf6be6e44",
       "version_major": 2,
       "version_minor": 0
      },
      "text/plain": [
       "Running Epoch 2 of 3:   0%|          | 0/747 [00:00<?, ?it/s]"
      ]
     },
     "metadata": {},
     "output_type": "display_data"
    },
    {
     "name": "stdout",
     "output_type": "stream",
     "text": [
      "trained model\n"
     ]
    }
   ],
   "source": [
    "model = ClassificationModel('bert', 'bert-base-multilingual-uncased', num_labels=3, use_cuda=False, args={\n",
    "    'reprocess_input_data': True,\n",
    "    'use_cached_eval_features': False,\n",
    "    'overwrite_output_dir': True,\n",
    "    'num_train_epochs': 3\n",
    "})\n",
    "model.train_model(df3)\n",
    "print(\"trained model\")"
   ]
  },
  {
   "cell_type": "code",
   "execution_count": 32,
   "id": "1f5c9a00-e267-4c9b-82b2-ee903b7ab008",
   "metadata": {},
   "outputs": [
    {
     "name": "stdout",
     "output_type": "stream",
     "text": [
      "                                                                                                                                                                                                                                                paras  \\\n",
      "0                                                            आर्थिक वर्ष २०७४/७५ मा जिल्लामा आएको १ अर्ब ३९ करोड २२ लाख रकम फ्रिज भएको छ ।\\nचालुतर्फ ७० करोड ४ लाख ७ हजार र पुँजीगततर्फ ६९ करोड १८ लाख ३ हजार रूपैयाँ खर्च हुन नसकेर फिर्ता गएको हो ।   \n",
      "1                                                                       गोरखा र नुवाकोटमा भूकम्पबाट क्षतिग्रस्त पचास हजार घरको पुनर्निर्माणका लागि भारत सरकारले १ करोड ६२ लाख अमेरिकी डलर (१ अर्ब ६७ करोड ७० लाख रुपैयाँ) अनुदान सहयोग गर्ने भएको छ ।   \n",
      "2  सरकारले उपभोक्ता ठगी गर्ने व्यवसायीलाई वाणिज्य, आपूिर्त तथा उपभोक्ता संरक्षण विभागले नै कारबाही गर्न सक्ने अधिकारसहितको कानुन जारी गर्न लागेको छ । प्रस्तावित उपभोक्ता संरक्षण ऐन २०७५ को मस्यौदामा अनुगमन निरीक्षकलाई उक्त अधिकार दिन लागेको हो ।   \n",
      "3                                                                                    स्वरसम्राट् नारायणगोपालको सम्झनामा संग्रहालय बनाउने तयारी सुरु भएको छ । काठमाडौं महानगरपालिका वडा नं. ३ मा सो संग्रहालय बन्न लागेको वडाध्यक्ष दीपक केसीले बताए ।   \n",
      "4                                लुम्बिनी खुकुरी क्रिकेट क्लब रूपन्देही सुपर लिग क्रिकेटको सेमिफाइनल पुगेको छ । भैरहवामा जारी प्रतियोगिताको लिग चरणमा डिभिजन ‘ए’ अन्तर्गत समूह ‘डी’ को खेलमा खुकुरीले एमसिसी क्रिकेट क्लब भैरहवालाई ९ विकेटले हरायो ।   \n",
      "\n",
      "   label  \n",
      "0      0  \n",
      "1      0  \n",
      "2      0  \n",
      "3      1  \n",
      "4      2  \n"
     ]
    }
   ],
   "source": [
    "eval_frame = pd.DataFrame(X_test)\n",
    "eval_frame['label'] = labeler.fit_transform(Y_test)\n",
    "print(eval_frame.head())"
   ]
  },
  {
   "cell_type": "code",
   "execution_count": 33,
   "id": "3b6f5149-cb3f-4891-995a-462503a6ac66",
   "metadata": {},
   "outputs": [
    {
     "name": "stdout",
     "output_type": "stream",
     "text": [
      "1495\n"
     ]
    }
   ],
   "source": [
    "print(len(eval_frame))"
   ]
  },
  {
   "cell_type": "code",
   "execution_count": 34,
   "id": "105910a5-cb2e-4de8-8573-95d36f732eee",
   "metadata": {},
   "outputs": [
    {
     "name": "stderr",
     "output_type": "stream",
     "text": [
      "/Users/badalgami/opt/anaconda3/lib/python3.9/site-packages/simpletransformers/classification/classification_model.py:1442: UserWarning: Dataframe headers not specified. Falling back to using column 0 as text and column 1 as labels.\n",
      "  warnings.warn(\n"
     ]
    },
    {
     "data": {
      "application/vnd.jupyter.widget-view+json": {
       "model_id": "e7cc26e0ce0d47c6b8251c5527c8c3b0",
       "version_major": 2,
       "version_minor": 0
      },
      "text/plain": [
       "  0%|          | 0/1495 [00:00<?, ?it/s]"
      ]
     },
     "metadata": {},
     "output_type": "display_data"
    },
    {
     "name": "stdout",
     "output_type": "stream",
     "text": [
      "huggingface/tokenizers: The current process just got forked, after parallelism has already been used. Disabling parallelism to avoid deadlocks...\n",
      "To disable this warning, you can either:\n",
      "\t- Avoid using `tokenizers` before the fork if possible\n",
      "\t- Explicitly set the environment variable TOKENIZERS_PARALLELISM=(true | false)\n",
      "huggingface/tokenizers: The current process just got forked, after parallelism has already been used. Disabling parallelism to avoid deadlocks...\n",
      "To disable this warning, you can either:\n",
      "\t- Avoid using `tokenizers` before the fork if possible\n",
      "\t- Explicitly set the environment variable TOKENIZERS_PARALLELISM=(true | false)\n",
      "huggingface/tokenizers: The current process just got forked, after parallelism has already been used. Disabling parallelism to avoid deadlocks...\n",
      "To disable this warning, you can either:\n",
      "\t- Avoid using `tokenizers` before the fork if possible\n",
      "\t- Explicitly set the environment variable TOKENIZERS_PARALLELISM=(true | false)\n"
     ]
    },
    {
     "data": {
      "application/vnd.jupyter.widget-view+json": {
       "model_id": "b2a141ad40ee45af9d7c75966ee967c6",
       "version_major": 2,
       "version_minor": 0
      },
      "text/plain": [
       "Running Evaluation:   0%|          | 0/187 [00:00<?, ?it/s]"
      ]
     },
     "metadata": {},
     "output_type": "display_data"
    },
    {
     "name": "stdout",
     "output_type": "stream",
     "text": [
      "wrong predictions (by input I think?):\n",
      "{0: 47, 2: 49, 1: 50}\n"
     ]
    }
   ],
   "source": [
    "result, model_outputs, wrong_predictions = model.eval_model(eval_frame)\n",
    "bads = {}\n",
    "for pred in wrong_predictions:\n",
    "    if pred.label in bads:\n",
    "        bads[pred.label] += 1\n",
    "    else:\n",
    "        bads[pred.label] = 1\n",
    "print(\"wrong predictions :\")\n",
    "print(bads)"
   ]
  },
  {
   "cell_type": "code",
   "execution_count": 35,
   "id": "0821071f-1134-446d-a160-eeaa1120ccc2",
   "metadata": {},
   "outputs": [
    {
     "data": {
      "text/plain": [
       "90.23411371237458"
      ]
     },
     "execution_count": 35,
     "metadata": {},
     "output_type": "execute_result"
    }
   ],
   "source": [
    "(1-(47+49+50)/1495)*100   "
   ]
  },
  {
   "cell_type": "markdown",
   "id": "5c699324-bed2-42b9-af99-acabd6f66b9a",
   "metadata": {},
   "source": [
    "Accuracy =90.23%; Epoches = 3; Simple Transformers + Multiligual BERT"
   ]
  }
 ],
 "metadata": {
  "kernelspec": {
   "display_name": "Python 3 (ipykernel)",
   "language": "python",
   "name": "python3"
  },
  "language_info": {
   "codemirror_mode": {
    "name": "ipython",
    "version": 3
   },
   "file_extension": ".py",
   "mimetype": "text/x-python",
   "name": "python",
   "nbconvert_exporter": "python",
   "pygments_lexer": "ipython3",
   "version": "3.9.13"
  }
 },
 "nbformat": 4,
 "nbformat_minor": 5
}
